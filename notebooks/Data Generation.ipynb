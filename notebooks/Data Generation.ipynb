{
 "cells": [
  {
   "cell_type": "markdown",
   "metadata": {},
   "source": [
    "# Data Generation"
   ]
  },
  {
   "cell_type": "markdown",
   "metadata": {},
   "source": [
    "Consider following questions\n",
    "\n",
    "- How robust is classification with respect to key rotation?\n",
    "    - Compare model trained on ciphers with fixed key to model train on ciphers with rotating key\n",
    "    - Compare model on test data with same or different fixed key\n",
    "  \n",
    "- How robust is classification with respect to types of ciphers?\n",
    "    - Leave one of the ciphers out of the train set\n",
    "   \n",
    "- Is there a difference between manually sent messages and censor data?\n",
    "    - Sensor data has higher entropy and is more \"similar\" to ciphertexts\n",
    "    - Treat manual and sensor separately first\n",
    "    - Later test multi-class problem\n",
    "    \n",
    "- How robust is classification with respect to short messages?\n",
    "    - Investigate whether message length makes a difference"
   ]
  },
  {
   "cell_type": "code",
   "execution_count": 1,
   "metadata": {},
   "outputs": [],
   "source": [
    "%matplotlib inline\n",
    "%load_ext autoreload\n",
    "%autoreload 2"
   ]
  },
  {
   "cell_type": "code",
   "execution_count": 2,
   "metadata": {},
   "outputs": [],
   "source": [
    "import numpy as np\n",
    "import pandas as pd\n",
    "\n",
    "import sys\n",
    "sys.path.append('../')\n",
    "from src.data_utils import *\n",
    "from src.cipher_utils import *"
   ]
  },
  {
   "cell_type": "markdown",
   "metadata": {},
   "source": [
    "# Init"
   ]
  },
  {
   "cell_type": "code",
   "execution_count": 3,
   "metadata": {},
   "outputs": [],
   "source": [
    "delimiter = chr(0x06)\n",
    "\n",
    "alphabet = get_ascii_alphabet()\n",
    "\n",
    "cipher_map = initialize_cipher_machines()\n",
    "\n",
    "seed(42)"
   ]
  },
  {
   "cell_type": "code",
   "execution_count": 4,
   "metadata": {},
   "outputs": [
    {
     "ename": "FileNotFoundError",
     "evalue": "[Errno 2] No such file or directory: '../data/full_acars.pkl'",
     "output_type": "error",
     "traceback": [
      "\u001b[1;31m---------------------------------------------------------------------------\u001b[0m",
      "\u001b[1;31mFileNotFoundError\u001b[0m                         Traceback (most recent call last)",
      "\u001b[1;32m<ipython-input-4-d8a7a6eb47d8>\u001b[0m in \u001b[0;36m<module>\u001b[1;34m\u001b[0m\n\u001b[0;32m      1\u001b[0m \u001b[0mdpath\u001b[0m \u001b[1;33m=\u001b[0m \u001b[1;34m'../data/full_acars.pkl'\u001b[0m\u001b[1;33m\u001b[0m\u001b[1;33m\u001b[0m\u001b[0m\n\u001b[1;32m----> 2\u001b[1;33m \u001b[0mdf\u001b[0m \u001b[1;33m=\u001b[0m \u001b[0mpd\u001b[0m\u001b[1;33m.\u001b[0m\u001b[0mread_pickle\u001b[0m\u001b[1;33m(\u001b[0m\u001b[0mdpath\u001b[0m\u001b[1;33m)\u001b[0m\u001b[1;33m\u001b[0m\u001b[1;33m\u001b[0m\u001b[0m\n\u001b[0m\u001b[0;32m      3\u001b[0m \u001b[0mdf\u001b[0m\u001b[1;33m.\u001b[0m\u001b[0minfo\u001b[0m\u001b[1;33m(\u001b[0m\u001b[1;33m)\u001b[0m\u001b[1;33m\u001b[0m\u001b[1;33m\u001b[0m\u001b[0m\n",
      "\u001b[1;32m~\\anaconda3\\lib\\site-packages\\pandas\\io\\pickle.py\u001b[0m in \u001b[0;36mread_pickle\u001b[1;34m(filepath_or_buffer, compression)\u001b[0m\n\u001b[0;32m    168\u001b[0m     \u001b[1;32mif\u001b[0m \u001b[1;32mnot\u001b[0m \u001b[0misinstance\u001b[0m\u001b[1;33m(\u001b[0m\u001b[0mfp_or_buf\u001b[0m\u001b[1;33m,\u001b[0m \u001b[0mstr\u001b[0m\u001b[1;33m)\u001b[0m \u001b[1;32mand\u001b[0m \u001b[0mcompression\u001b[0m \u001b[1;33m==\u001b[0m \u001b[1;34m\"infer\"\u001b[0m\u001b[1;33m:\u001b[0m\u001b[1;33m\u001b[0m\u001b[1;33m\u001b[0m\u001b[0m\n\u001b[0;32m    169\u001b[0m         \u001b[0mcompression\u001b[0m \u001b[1;33m=\u001b[0m \u001b[1;32mNone\u001b[0m\u001b[1;33m\u001b[0m\u001b[1;33m\u001b[0m\u001b[0m\n\u001b[1;32m--> 170\u001b[1;33m     \u001b[0mf\u001b[0m\u001b[1;33m,\u001b[0m \u001b[0mfh\u001b[0m \u001b[1;33m=\u001b[0m \u001b[0mget_handle\u001b[0m\u001b[1;33m(\u001b[0m\u001b[0mfp_or_buf\u001b[0m\u001b[1;33m,\u001b[0m \u001b[1;34m\"rb\"\u001b[0m\u001b[1;33m,\u001b[0m \u001b[0mcompression\u001b[0m\u001b[1;33m=\u001b[0m\u001b[0mcompression\u001b[0m\u001b[1;33m,\u001b[0m \u001b[0mis_text\u001b[0m\u001b[1;33m=\u001b[0m\u001b[1;32mFalse\u001b[0m\u001b[1;33m)\u001b[0m\u001b[1;33m\u001b[0m\u001b[1;33m\u001b[0m\u001b[0m\n\u001b[0m\u001b[0;32m    171\u001b[0m \u001b[1;33m\u001b[0m\u001b[0m\n\u001b[0;32m    172\u001b[0m     \u001b[1;31m# 1) try standard library Pickle\u001b[0m\u001b[1;33m\u001b[0m\u001b[1;33m\u001b[0m\u001b[1;33m\u001b[0m\u001b[0m\n",
      "\u001b[1;32m~\\anaconda3\\lib\\site-packages\\pandas\\io\\common.py\u001b[0m in \u001b[0;36mget_handle\u001b[1;34m(path_or_buf, mode, encoding, compression, memory_map, is_text)\u001b[0m\n\u001b[0;32m    432\u001b[0m         \u001b[1;32melse\u001b[0m\u001b[1;33m:\u001b[0m\u001b[1;33m\u001b[0m\u001b[1;33m\u001b[0m\u001b[0m\n\u001b[0;32m    433\u001b[0m             \u001b[1;31m# Binary mode\u001b[0m\u001b[1;33m\u001b[0m\u001b[1;33m\u001b[0m\u001b[1;33m\u001b[0m\u001b[0m\n\u001b[1;32m--> 434\u001b[1;33m             \u001b[0mf\u001b[0m \u001b[1;33m=\u001b[0m \u001b[0mopen\u001b[0m\u001b[1;33m(\u001b[0m\u001b[0mpath_or_buf\u001b[0m\u001b[1;33m,\u001b[0m \u001b[0mmode\u001b[0m\u001b[1;33m)\u001b[0m\u001b[1;33m\u001b[0m\u001b[1;33m\u001b[0m\u001b[0m\n\u001b[0m\u001b[0;32m    435\u001b[0m         \u001b[0mhandles\u001b[0m\u001b[1;33m.\u001b[0m\u001b[0mappend\u001b[0m\u001b[1;33m(\u001b[0m\u001b[0mf\u001b[0m\u001b[1;33m)\u001b[0m\u001b[1;33m\u001b[0m\u001b[1;33m\u001b[0m\u001b[0m\n\u001b[0;32m    436\u001b[0m \u001b[1;33m\u001b[0m\u001b[0m\n",
      "\u001b[1;31mFileNotFoundError\u001b[0m: [Errno 2] No such file or directory: '../data/full_acars.pkl'"
     ]
    }
   ],
   "source": [
    "dpath = '../data/full_acars.pkl'\n",
    "df = pd.read_pickle(dpath)\n",
    "df.info()"
   ]
  },
  {
   "cell_type": "code",
   "execution_count": 9,
   "metadata": {},
   "outputs": [
    {
     "name": "stdout",
     "output_type": "stream",
     "text": [
      "Total number of messages sent via satellite: 761320\n"
     ]
    }
   ],
   "source": [
    "df_sat = df.groupby('db_channel').get_group('sat')\n",
    "print('Total number of messages sent via satellite: %d'%len(df_sat))"
   ]
  },
  {
   "cell_type": "markdown",
   "metadata": {},
   "source": [
    "# Sensor data\n",
    "## Load & split data"
   ]
  },
  {
   "cell_type": "code",
   "execution_count": 17,
   "metadata": {},
   "outputs": [
    {
     "name": "stdout",
     "output_type": "stream",
     "text": [
      "Loaded 178914 messages with label H1 (plain_sensor)\n"
     ]
    }
   ],
   "source": [
    "sensor_messages = list(df_sat[df_sat['Label'] == 'H1']['Txt'])\n",
    "print('Loaded %d messages with label H1 (plain_sensor)'%(len(sensor_messages)))\n",
    "\n",
    "shuffle(sensor_messages)\n",
    "\n",
    "num_train = int(0.75 * len(sensor_messages))\n",
    "\n",
    "sensor_train = sensor_messages[:num_train]\n",
    "sensor_test = sensor_messages[num_train:]"
   ]
  },
  {
   "cell_type": "markdown",
   "metadata": {},
   "source": [
    "## Training data with fixed key\n",
    "\n",
    "##### Get ciphertexts from plaintexts"
   ]
  },
  {
   "cell_type": "code",
   "execution_count": 18,
   "metadata": {},
   "outputs": [
    {
     "name": "stdout",
     "output_type": "stream",
     "text": [
      "--caesar--\n",
      "Successfully encrypted all messages with cipher caesar\n",
      "--columnar--\n",
      "Successfully encrypted all messages with cipher columnar\n",
      "--vigenere--\n",
      "Successfully encrypted all messages with cipher vigenere\n",
      "--substitution--\n",
      "Successfully encrypted all messages with cipher substitution\n",
      "--fakeaes--\n",
      "Successfully encrypted all messages with cipher fakeaes\n"
     ]
    }
   ],
   "source": [
    "ciphers_sensor_train = msg_to_cipher(sensor_train, cipher_map, alphabet, key_rot=len(sensor_train))"
   ]
  },
  {
   "cell_type": "markdown",
   "metadata": {},
   "source": [
    "##### Sanity check that messages can be decrypted correctly"
   ]
  },
  {
   "cell_type": "code",
   "execution_count": 19,
   "metadata": {
    "scrolled": true
   },
   "outputs": [
    {
     "name": "stdout",
     "output_type": "stream",
     "text": [
      "True\n"
     ]
    }
   ],
   "source": [
    "test_decrypt(ciphers_sensor_train, cipher_map, 'vigenere', sensor_train, 100)"
   ]
  },
  {
   "cell_type": "markdown",
   "metadata": {},
   "source": [
    "##### Generate dataframe with training data "
   ]
  },
  {
   "cell_type": "code",
   "execution_count": 20,
   "metadata": {},
   "outputs": [],
   "source": [
    "plain_sensor_train = {'txt': sensor_train, 'label': ['plain' for _ in sensor_train]}\n",
    "sensor_train_fixed = generate_dataframe(plain_sensor_train, ciphers_sensor_train)"
   ]
  },
  {
   "cell_type": "code",
   "execution_count": 24,
   "metadata": {},
   "outputs": [
    {
     "data": {
      "text/html": [
       "<div>\n",
       "<style scoped>\n",
       "    .dataframe tbody tr th:only-of-type {\n",
       "        vertical-align: middle;\n",
       "    }\n",
       "\n",
       "    .dataframe tbody tr th {\n",
       "        vertical-align: top;\n",
       "    }\n",
       "\n",
       "    .dataframe thead th {\n",
       "        text-align: right;\n",
       "    }\n",
       "</style>\n",
       "<table border=\"1\" class=\"dataframe\">\n",
       "  <thead>\n",
       "    <tr style=\"text-align: right;\">\n",
       "      <th></th>\n",
       "      <th>Txt</th>\n",
       "      <th>Label</th>\n",
       "      <th>Cipher</th>\n",
       "      <th>Key</th>\n",
       "    </tr>\n",
       "  </thead>\n",
       "  <tbody>\n",
       "    <tr>\n",
       "      <th>498936</th>\n",
       "      <td>R&amp;\u00047Ls\"\u0017\b-pH5c[Oz\u0001_\u0019\b\u00122vE&amp;n\u0015)(SU'\u0017T\u00055\u0013\u0014\u0004S$(c:=...</td>\n",
       "      <td>cipher</td>\n",
       "      <td>vigenere</td>\n",
       "      <td>&amp;\u0007bj\\tEaghT pq2\u0002\u000fMA\u001aKYLe/\u0004Q.\\r|</td>\n",
       "    </tr>\n",
       "    <tr>\n",
       "      <th>23797</th>\n",
       "      <td>- #MD/AA YQXE2YA.AT1.N66057213623E2408B80</td>\n",
       "      <td>plain</td>\n",
       "      <td>plain</td>\n",
       "      <td></td>\n",
       "    </tr>\n",
       "    <tr>\n",
       "      <th>287440</th>\n",
       "      <td>I2.G78Q AA60A2YC-. DYB0H6D1E...</td>\n",
       "      <td>cipher</td>\n",
       "      <td>columnar</td>\n",
       "      <td>d\f",
       "OT*i\\ro%,\u000b",
       "l&gt;\u0015\u001b\u000e\u0005rR=$\u0007\"!\u0000[7\u00032mPk1pQ@L;V\u0014q\u000fB\u0010\\...</td>\n",
       "    </tr>\n",
       "    <tr>\n",
       "      <th>202696</th>\n",
       "      <td>=03]T?QF0^TZSQiQ&gt;QTc&gt;`X=S[S@H@UACB@FSB@@HAD@QV...</td>\n",
       "      <td>cipher</td>\n",
       "      <td>caesar</td>\n",
       "      <td>16</td>\n",
       "    </tr>\n",
       "    <tr>\n",
       "      <th>70377</th>\n",
       "      <td>- #MD/A0 YQXD2YA.AFN/FMHRCH433,.40061B,,075638...</td>\n",
       "      <td>plain</td>\n",
       "      <td>plain</td>\n",
       "      <td></td>\n",
       "    </tr>\n",
       "  </tbody>\n",
       "</table>\n",
       "</div>"
      ],
      "text/plain": [
       "                                                      Txt   Label    Cipher  \\\n",
       "498936  R&\u00047Ls\"\u0017\b-pH5c[Oz\u0001_\u0019\b\u00122vE&n\u0015)(SU'\u0017T\u00055\u0013\u0014\u0004S$(c:=...  cipher  vigenere   \n",
       "23797           - #MD/AA YQXE2YA.AT1.N66057213623E2408B80   plain     plain   \n",
       "287440  I2.G78Q AA60A2YC-. DYB0H6D1E...  cipher  columnar   \n",
       "202696  =03]T?QF0^TZSQiQ>QTc>`X=S[S@H@UACB@FSB@@HAD@QV...  cipher    caesar   \n",
       "70377   - #MD/A0 YQXD2YA.AFN/FMHRCH433,.40061B,,075638...   plain     plain   \n",
       "\n",
       "                                                      Key  \n",
       "498936                    &\u0007bj\\tEaghT pq2\u0002\u000fMA\u001aKYLe/\u0004Q.\\r|  \n",
       "23797                                                      \n",
       "287440  d\n",
       "OT*i\\ro%,\n",
       "l>\u0015\u001b\u000e\u0005rR=$\u0007\"!\u0000[7\u00032mPk1pQ@L;V\u0014q\u000fB\u0010\\...  \n",
       "202696                                                 16  \n",
       "70377                                                      "
      ]
     },
     "execution_count": 24,
     "metadata": {},
     "output_type": "execute_result"
    }
   ],
   "source": [
    "sensor_train_fixed.sample(5)"
   ]
  },
  {
   "cell_type": "code",
   "execution_count": 22,
   "metadata": {
    "scrolled": true
   },
   "outputs": [
    {
     "data": {
      "text/plain": [
       "Label\n",
       "cipher    670925\n",
       "plain     134185\n",
       "dtype: int64"
      ]
     },
     "execution_count": 22,
     "metadata": {},
     "output_type": "execute_result"
    }
   ],
   "source": [
    "sensor_train_fixed.groupby('Label').size()"
   ]
  },
  {
   "cell_type": "code",
   "execution_count": null,
   "metadata": {},
   "outputs": [],
   "source": [
    "sensor_train_fixed.to_pickle('../data/train_sensor_fixed_key.pkl')"
   ]
  },
  {
   "cell_type": "markdown",
   "metadata": {},
   "source": [
    "## Test data with same fixed key\n",
    "##### Apply same key as train"
   ]
  },
  {
   "cell_type": "code",
   "execution_count": 25,
   "metadata": {},
   "outputs": [
    {
     "name": "stdout",
     "output_type": "stream",
     "text": [
      "caesar\n",
      "columnar\n",
      "fakeaes\n",
      "plain\n",
      "substitution\n",
      "vigenere\n"
     ]
    }
   ],
   "source": [
    "train_key_map = {}\n",
    "for cm, data in sensor_train_fixed.groupby('Cipher'):\n",
    "    print(cm)\n",
    "    train_key_map[cm] = list(data['Key'].unique())"
   ]
  },
  {
   "cell_type": "code",
   "execution_count": 26,
   "metadata": {},
   "outputs": [
    {
     "name": "stdout",
     "output_type": "stream",
     "text": [
      "--caesar--\n",
      "Successfully encrypted all messages with cipher caesar\n",
      "--columnar--\n",
      "Successfully encrypted all messages with cipher columnar\n",
      "--vigenere--\n",
      "Successfully encrypted all messages with cipher vigenere\n",
      "--substitution--\n",
      "Successfully encrypted all messages with cipher substitution\n",
      "--fakeaes--\n",
      "Successfully encrypted all messages with cipher fakeaes\n"
     ]
    }
   ],
   "source": [
    "ciphers_sensor_test = msg_to_cipher(sensor_test, cipher_map, alphabet, key_map=train_key_map)"
   ]
  },
  {
   "cell_type": "code",
   "execution_count": 27,
   "metadata": {},
   "outputs": [],
   "source": [
    "plain_sensor_test = {'txt': sensor_test, 'label': ['plain' for _ in sensor_test]}\n",
    "sensor_test_fixed = generate_dataframe(plain_sensor_test, ciphers_sensor_test)"
   ]
  },
  {
   "cell_type": "code",
   "execution_count": 28,
   "metadata": {},
   "outputs": [
    {
     "data": {
      "text/html": [
       "<div>\n",
       "<style scoped>\n",
       "    .dataframe tbody tr th:only-of-type {\n",
       "        vertical-align: middle;\n",
       "    }\n",
       "\n",
       "    .dataframe tbody tr th {\n",
       "        vertical-align: top;\n",
       "    }\n",
       "\n",
       "    .dataframe thead th {\n",
       "        text-align: right;\n",
       "    }\n",
       "</style>\n",
       "<table border=\"1\" class=\"dataframe\">\n",
       "  <thead>\n",
       "    <tr style=\"text-align: right;\">\n",
       "      <th></th>\n",
       "      <th>Txt</th>\n",
       "      <th>Label</th>\n",
       "      <th>Cipher</th>\n",
       "      <th>Key</th>\n",
       "    </tr>\n",
       "  </thead>\n",
       "  <tbody>\n",
       "    <tr>\n",
       "      <th>23274</th>\n",
       "      <td>- #T20PWYWD360,RAPIX,292031,360M57.KENET,26704...</td>\n",
       "      <td>plain</td>\n",
       "      <td>plain</td>\n",
       "      <td></td>\n",
       "    </tr>\n",
       "    <tr>\n",
       "      <th>35792</th>\n",
       "      <td>- #MD/AA SMACAYA.AT1.55142A6288D38501B16D</td>\n",
       "      <td>plain</td>\n",
       "      <td>plain</td>\n",
       "      <td></td>\n",
       "    </tr>\n",
       "    <tr>\n",
       "      <th>38172</th>\n",
       "      <td>- #MDFTX/ID21100A,RCH975,JAM6212X1344/MR12,91/...</td>\n",
       "      <td>plain</td>\n",
       "      <td>plain</td>\n",
       "      <td></td>\n",
       "    </tr>\n",
       "    <tr>\n",
       "      <th>235146</th>\n",
       "      <td>1Q)7ROZef%`]zXpS^hDWL\u001e",
       "F\f",
       "\u0016.'l_\u0013 gC[uj~aHt\u0017Kv:\u0000...</td>\n",
       "      <td>cipher</td>\n",
       "      <td>fakeaes</td>\n",
       "      <td>103</td>\n",
       "    </tr>\n",
       "    <tr>\n",
       "      <th>177476</th>\n",
       "      <td>R&amp;\u00047L\u001580\u0017\u0018c\"&amp;g4BpO\u0007|\u001c",
       "d6\u0004f\f",
       "%2S7\u0016\u001a:y\u0012\u0017\u001b\u0003M!!d4D...</td>\n",
       "      <td>cipher</td>\n",
       "      <td>vigenere</td>\n",
       "      <td>&amp;\u0007bj\\tEaghT pq2\u0002\u000fMA\u001aKYLe/\u0004Q.\\r|</td>\n",
       "    </tr>\n",
       "  </tbody>\n",
       "</table>\n",
       "</div>"
      ],
      "text/plain": [
       "                                                      Txt   Label    Cipher  \\\n",
       "23274   - #T20PWYWD360,RAPIX,292031,360M57.KENET,26704...   plain     plain   \n",
       "35792           - #MD/AA SMACAYA.AT1.55142A6288D38501B16D   plain     plain   \n",
       "38172   - #MDFTX/ID21100A,RCH975,JAM6212X1344/MR12,91/...   plain     plain   \n",
       "235146  1Q)7ROZef%`]zXpS^hDWL\n",
       "F\n",
       "\u0016.'l_\u0013 gC[uj~aHt\u0017Kv:\u0000...  cipher   fakeaes   \n",
       "177476  R&\u00047L\u001580\u0017\u0018c\"&g4BpO\u0007|\n",
       "d6\u0004f\n",
       "%2S7\u0016\u001a:y\u0012\u0017\u001b\u0003M!!d4D...  cipher  vigenere   \n",
       "\n",
       "                                    Key  \n",
       "23274                                    \n",
       "35792                                    \n",
       "38172                                    \n",
       "235146                              103  \n",
       "177476  &\u0007bj\\tEaghT pq2\u0002\u000fMA\u001aKYLe/\u0004Q.\\r|  "
      ]
     },
     "execution_count": 28,
     "metadata": {},
     "output_type": "execute_result"
    }
   ],
   "source": [
    "sensor_test_fixed.sample(5)"
   ]
  },
  {
   "cell_type": "code",
   "execution_count": null,
   "metadata": {},
   "outputs": [],
   "source": [
    "sensor_test_fixed.to_pickle('../data/test_sensor_fixed_key.pkl')"
   ]
  },
  {
   "cell_type": "markdown",
   "metadata": {},
   "source": [
    "#### Generate test data with rotating keys"
   ]
  },
  {
   "cell_type": "code",
   "execution_count": 29,
   "metadata": {},
   "outputs": [
    {
     "name": "stdout",
     "output_type": "stream",
     "text": [
      "--caesar--\n",
      "Successfully encrypted all messages with cipher caesar\n",
      "--columnar--\n",
      "Successfully encrypted all messages with cipher columnar\n",
      "--vigenere--\n",
      "Successfully encrypted all messages with cipher vigenere\n",
      "--substitution--\n",
      "Successfully encrypted all messages with cipher substitution\n",
      "--fakeaes--\n",
      "Successfully encrypted all messages with cipher fakeaes\n"
     ]
    }
   ],
   "source": [
    "ciphers_sensor_test = msg_to_cipher(sensor_test, cipher_map, alphabet, key_rot=1000)"
   ]
  },
  {
   "cell_type": "code",
   "execution_count": 30,
   "metadata": {},
   "outputs": [],
   "source": [
    "sensor_test_different = generate_dataframe(plain_sensor_test, ciphers_sensor_test)"
   ]
  },
  {
   "cell_type": "code",
   "execution_count": 31,
   "metadata": {},
   "outputs": [
    {
     "data": {
      "text/html": [
       "<div>\n",
       "<style scoped>\n",
       "    .dataframe tbody tr th:only-of-type {\n",
       "        vertical-align: middle;\n",
       "    }\n",
       "\n",
       "    .dataframe tbody tr th {\n",
       "        vertical-align: top;\n",
       "    }\n",
       "\n",
       "    .dataframe thead th {\n",
       "        text-align: right;\n",
       "    }\n",
       "</style>\n",
       "<table border=\"1\" class=\"dataframe\">\n",
       "  <thead>\n",
       "    <tr style=\"text-align: right;\">\n",
       "      <th></th>\n",
       "      <th>Txt</th>\n",
       "      <th>Label</th>\n",
       "      <th>Cipher</th>\n",
       "      <th>Key</th>\n",
       "    </tr>\n",
       "  </thead>\n",
       "  <tbody>\n",
       "    <tr>\n",
       "      <th>101989</th>\n",
       "      <td>90100R78,0M,M8V97WMU60S20S3M1,00 7,,.U,T330830...</td>\n",
       "      <td>cipher</td>\n",
       "      <td>columnar</td>\n",
       "      <td>]\f",
       "\u000eO*\u0017Bp+\u0019YV9\u0005qM_~?v\u001e",
       "\u00124[.0\\rl32Ar\u000fxR\u0016\u0002y\u0011tE5N\u0015j\u0010</td>\n",
       "    </tr>\n",
       "    <tr>\n",
       "      <th>1363</th>\n",
       "      <td>.LISOZTP 231453\\nFCD\\nAN CS-TOA/FI TP287\\n- #M...</td>\n",
       "      <td>plain</td>\n",
       "      <td>plain</td>\n",
       "      <td></td>\n",
       "    </tr>\n",
       "    <tr>\n",
       "      <th>231975</th>\n",
       "      <td>bt\u001e",
       "\f",
       "N}\u001f'M\u0015mz]Qg&amp;=5Fs\u0019r#\u0000j\u0014\\a~%UwR\u0016;\\n\u0010O\"y$\u001bKH&lt;0\u0001</td>\n",
       "      <td>cipher</td>\n",
       "      <td>fakeaes</td>\n",
       "      <td>47</td>\n",
       "    </tr>\n",
       "    <tr>\n",
       "      <th>145859</th>\n",
       "      <td>8'&amp;9QdF\u0010+t_eO\u0005$PJL-\u000e\u00183TUY+^L\u000e?\\n\u0000%q:\u001e",
       "\\PIL:9F&amp;{...</td>\n",
       "      <td>cipher</td>\n",
       "      <td>vigenere</td>\n",
       "      <td>\b\u0003l\u000e\u0015oG|\u001e",
       "\u001c",
       "3\u001bVx\u0002\u0016\u001az^h\\%$*{/\u001d",
       "b\\rZQu:\u000b",
       "p\u000f</td>\n",
       "    </tr>\n",
       "    <tr>\n",
       "      <th>158672</th>\n",
       "      <td>N\\\u0003\u0005+#-xx'F\f",
       "FnT&lt;\"8Jt\u001fd4%+N3*F]/$u\\rT\u001c",
       "-[{V^\u0005u\u0000G</td>\n",
       "      <td>cipher</td>\n",
       "      <td>vigenere</td>\n",
       "      <td>\"=a9gt?lY+c|I\u0005\u0016\u0014\u000f_f\u001aGO\u001d",
       "\bb`\f",
       "\u0001z\u0017%yo5U\u0010ix(;\u001e",
       "*T&gt;N\u0007...</td>\n",
       "    </tr>\n",
       "  </tbody>\n",
       "</table>\n",
       "</div>"
      ],
      "text/plain": [
       "                                                      Txt   Label    Cipher  \\\n",
       "101989  90100R78,0M,M8V97WMU60S20S3M1,00 7,,.U,T330830...  cipher  columnar   \n",
       "1363    .LISOZTP 231453\\nFCD\\nAN CS-TOA/FI TP287\\n- #M...   plain     plain   \n",
       "231975   bt\n",
       "\n",
       "N}\u001f'M\u0015mz]Qg&=5Fs\u0019r#\u0000j\u0014\\a~%UwR\u0016;\\n\u0010O\"y$\u001bKH<0\u0001  cipher   fakeaes   \n",
       "145859  8'&9QdF\u0010+t_eO\u0005$PJL-\u000e\u00183TUY+^L\u000e?\\n\u0000%q:\n",
       "\\PIL:9F&{...  cipher  vigenere   \n",
       "158672   N\\\u0003\u0005+#-xx'F\n",
       "FnT<\"8Jt\u001fd4%+N3*F]/$u\\rT\n",
       "-[{V^\u0005u\u0000G\u001f  cipher  vigenere   \n",
       "\n",
       "                                                      Key  \n",
       "101989   ]\n",
       "\u000eO*\u0017Bp+\u0019YV9\u0005qM_~?v\n",
       "\u00124[.0\\rl32Ar\u000fxR\u0016\u0002y\u0011tE5N\u0015j\u0010  \n",
       "1363                                                       \n",
       "231975                                                 47  \n",
       "145859             \n",
       "\b\u0003l\u000e\u0015oG|\n",
       "\n",
       "3\u001bVx\u0002\u0016\u001az^h\\%$*{/\n",
       "b\\rZQu:\n",
       "p\u000f  \n",
       "158672  \"=a9gt?lY+c|I\u0005\u0016\u0014\u000f_f\u001aGO\n",
       "\bb`\n",
       "\u0001z\u0017%yo5U\u0010ix(;\n",
       "*T>N\u0007...  "
      ]
     },
     "execution_count": 31,
     "metadata": {},
     "output_type": "execute_result"
    }
   ],
   "source": [
    "sensor_test_different.sample(5)"
   ]
  },
  {
   "cell_type": "code",
   "execution_count": null,
   "metadata": {},
   "outputs": [],
   "source": [
    "sensor_test_different.to_pickle('../data/test_sensor_different_key.pkl')"
   ]
  },
  {
   "cell_type": "markdown",
   "metadata": {},
   "source": [
    "## Training data with rotating key "
   ]
  },
  {
   "cell_type": "code",
   "execution_count": 32,
   "metadata": {},
   "outputs": [
    {
     "name": "stdout",
     "output_type": "stream",
     "text": [
      "--caesar--\n",
      "Successfully encrypted all messages with cipher caesar\n",
      "--columnar--\n",
      "Successfully encrypted all messages with cipher columnar\n",
      "--vigenere--\n",
      "Successfully encrypted all messages with cipher vigenere\n",
      "--substitution--\n",
      "Successfully encrypted all messages with cipher substitution\n",
      "--fakeaes--\n",
      "Successfully encrypted all messages with cipher fakeaes\n"
     ]
    }
   ],
   "source": [
    "ciphers_sensor_train = msg_to_cipher(sensor_train, cipher_map, alphabet, key_rot=1000)"
   ]
  },
  {
   "cell_type": "code",
   "execution_count": 33,
   "metadata": {},
   "outputs": [],
   "source": [
    "sensor_train_rot = generate_dataframe(plain_sensor_train, ciphers_sensor_train).reset_index()"
   ]
  },
  {
   "cell_type": "code",
   "execution_count": 34,
   "metadata": {},
   "outputs": [
    {
     "data": {
      "text/html": [
       "<div>\n",
       "<style scoped>\n",
       "    .dataframe tbody tr th:only-of-type {\n",
       "        vertical-align: middle;\n",
       "    }\n",
       "\n",
       "    .dataframe tbody tr th {\n",
       "        vertical-align: top;\n",
       "    }\n",
       "\n",
       "    .dataframe thead th {\n",
       "        text-align: right;\n",
       "    }\n",
       "</style>\n",
       "<table border=\"1\" class=\"dataframe\">\n",
       "  <thead>\n",
       "    <tr style=\"text-align: right;\">\n",
       "      <th></th>\n",
       "      <th>index</th>\n",
       "      <th>Txt</th>\n",
       "      <th>Label</th>\n",
       "      <th>Cipher</th>\n",
       "      <th>Key</th>\n",
       "    </tr>\n",
       "  </thead>\n",
       "  <tbody>\n",
       "    <tr>\n",
       "      <th>562730</th>\n",
       "      <td>562730</td>\n",
       "      <td>h\u0003`\u001aAand\u0003xp\u001byx=n\u001e",
       "nA\u0001\u001e",
       "SU\u0005dSnU\u0004U\u0005U!yyUyU\u0005UAU\u0005\u0005UU...</td>\n",
       "      <td>cipher</td>\n",
       "      <td>substitution</td>\n",
       "      <td>}s&lt;ZM(*m\bN'g7XcB4K\u001c",
       "85\u0018)]Y|f\\nH$\u0003\u0014/`:\u0015\u0000\u0012,\u0016\u0002q{h...</td>\n",
       "    </tr>\n",
       "    <tr>\n",
       "      <th>390947</th>\n",
       "      <td>390947</td>\n",
       "      <td>N7F2733...</td>\n",
       "      <td>cipher</td>\n",
       "      <td>columnar</td>\n",
       "      <td>gx;aV|`=\u00039J$12\u000e\u001e",
       "\\t8\u0017\u0011z\u0013-/\u0007hQn#e\u000207pFPiIb\u001c",
       "d'\"}k...</td>\n",
       "    </tr>\n",
       "    <tr>\n",
       "      <th>367588</th>\n",
       "      <td>367588</td>\n",
       "      <td>W3JM.,0/DNIDS.0L0E0M00P44O8650 04L13,51,...</td>\n",
       "      <td>cipher</td>\n",
       "      <td>columnar</td>\n",
       "      <td>f2y&amp;i+o\u0016\u0013\u0001rT|X8S4,9JU/~`q\u0018@L\u0003\"\u001b\\n</td>\n",
       "    </tr>\n",
       "    <tr>\n",
       "      <th>377447</th>\n",
       "      <td>377447</td>\n",
       "      <td>S6B46AAD0134-E6N1A...</td>\n",
       "      <td>cipher</td>\n",
       "      <td>columnar</td>\n",
       "      <td>Nnew_y7igK|F6W\u000fB1\u0013\u0000o-\u0001\u001a\\njTGPZ}S\u0010\u0016If\u0005lYsU/\"H...</td>\n",
       "    </tr>\n",
       "    <tr>\n",
       "      <th>315970</th>\n",
       "      <td>315970</td>\n",
       "      <td>9-1M MYAAD4KIB98HAP...</td>\n",
       "      <td>cipher</td>\n",
       "      <td>columnar</td>\n",
       "      <td>\u0004\u0012N\u000e\"v6Y&gt;8-,~Z\u001f!UWo;QjT(\u0005\u00165^X24p0]E=qB\u0001 IGu}xt...</td>\n",
       "    </tr>\n",
       "  </tbody>\n",
       "</table>\n",
       "</div>"
      ],
      "text/plain": [
       "         index                                                Txt   Label  \\\n",
       "562730  562730  h\u0003`\u001aAand\u0003xp\u001byx=n\n",
       "nA\u0001\n",
       "SU\u0005dSnU\u0004U\u0005U!yyUyU\u0005UAU\u0005\u0005UU...  cipher   \n",
       "390947  390947  N7F2733...  cipher   \n",
       "367588  367588  W3JM.,0/DNIDS.0L0E0M00P44O8650 04L13,51,...  cipher   \n",
       "377447  377447  S6B46AAD0134-E6N1A...  cipher   \n",
       "315970  315970  9-1M MYAAD4KIB98HAP...  cipher   \n",
       "\n",
       "              Cipher                                                Key  \n",
       "562730  substitution  }s<ZM(*m\bN'g7XcB4K\n",
       "85\u0018)]Y|f\\nH$\u0003\u0014/`:\u0015\u0000\u0012,\u0016\u0002q{h...  \n",
       "390947      columnar  gx;aV|`=\u00039J$12\u000e\n",
       "\\t8\u0017\u0011z\u0013-/\u0007hQn#e\u000207pFPiIb\n",
       "d'\"}k...  \n",
       "367588      columnar                  f2y&i+o\u0016\u0013\u0001rT|X8S4,9JU/~`q\u0018@L\u0003\"\u001b\\n  \n",
       "377447      columnar   Nnew_y7igK|F6W\u000fB1\u0013\u0000o-\u0001\u001a\\njTGPZ}S\u0010\u0016If\u0005lYsU/\"H...  \n",
       "315970      columnar  \u0004\u0012N\u000e\"v6Y>8-,~Z\u001f!UWo;QjT(\u0005\u00165^X24p0]E=qB\u0001 IGu}xt...  "
      ]
     },
     "execution_count": 34,
     "metadata": {},
     "output_type": "execute_result"
    }
   ],
   "source": [
    "sensor_train_rot.sample(5)"
   ]
  },
  {
   "cell_type": "code",
   "execution_count": null,
   "metadata": {},
   "outputs": [],
   "source": [
    "sensor_train_rot.to_pickle('../data/train_sensor_key_rot.pkl')"
   ]
  },
  {
   "cell_type": "markdown",
   "metadata": {},
   "source": [
    "# Manual data\n",
    "## Load & split data"
   ]
  },
  {
   "cell_type": "code",
   "execution_count": 35,
   "metadata": {},
   "outputs": [
    {
     "name": "stdout",
     "output_type": "stream",
     "text": [
      "Loaded 93132 messages with label RA or C1 (plain_manual)\n"
     ]
    }
   ],
   "source": [
    "manual_messages = list(df_sat[df_sat['Label'].isin(['RA', 'C1'])]['Txt'])\n",
    "print('Loaded %d messages with label RA or C1 (plain_manual)'%(len(manual_messages)))"
   ]
  },
  {
   "cell_type": "code",
   "execution_count": 36,
   "metadata": {},
   "outputs": [],
   "source": [
    "shuffle(manual_messages)\n",
    "\n",
    "num_train = int(0.75 * len(manual_messages))\n",
    "\n",
    "manual_train = manual_messages[:num_train]\n",
    "manual_test = manual_messages[num_train:]"
   ]
  },
  {
   "cell_type": "markdown",
   "metadata": {},
   "source": [
    "## Training data with fixed keys"
   ]
  },
  {
   "cell_type": "code",
   "execution_count": 37,
   "metadata": {},
   "outputs": [
    {
     "name": "stdout",
     "output_type": "stream",
     "text": [
      "--caesar--\n",
      "Successfully encrypted all messages with cipher caesar\n",
      "--columnar--\n",
      "Successfully encrypted all messages with cipher columnar\n",
      "--vigenere--\n",
      "Successfully encrypted all messages with cipher vigenere\n",
      "--substitution--\n",
      "Successfully encrypted all messages with cipher substitution\n",
      "--fakeaes--\n",
      "Successfully encrypted all messages with cipher fakeaes\n"
     ]
    }
   ],
   "source": [
    "ciphers_manual_train = msg_to_cipher(manual_train, cipher_map, alphabet, key_rot=len(manual_train))"
   ]
  },
  {
   "cell_type": "code",
   "execution_count": 38,
   "metadata": {},
   "outputs": [],
   "source": [
    "plain_manual_train = {'txt': manual_train, 'label': ['plain' for _ in manual_train]}\n",
    "manual_train_fixed_key = generate_dataframe(plain_manual_train, ciphers_manual_train)"
   ]
  },
  {
   "cell_type": "code",
   "execution_count": 45,
   "metadata": {},
   "outputs": [
    {
     "data": {
      "text/html": [
       "<div>\n",
       "<style scoped>\n",
       "    .dataframe tbody tr th:only-of-type {\n",
       "        vertical-align: middle;\n",
       "    }\n",
       "\n",
       "    .dataframe tbody tr th {\n",
       "        vertical-align: top;\n",
       "    }\n",
       "\n",
       "    .dataframe thead th {\n",
       "        text-align: right;\n",
       "    }\n",
       "</style>\n",
       "<table border=\"1\" class=\"dataframe\">\n",
       "  <thead>\n",
       "    <tr style=\"text-align: right;\">\n",
       "      <th></th>\n",
       "      <th>Txt</th>\n",
       "      <th>Label</th>\n",
       "      <th>Cipher</th>\n",
       "      <th>Key</th>\n",
       "    </tr>\n",
       "  </thead>\n",
       "  <tbody>\n",
       "    <tr>\n",
       "      <th>172286</th>\n",
       "      <td>LKF   NIM  HTSD\\n  1 TUR 0  /P /B  0 BI\\nHU4 L...</td>\n",
       "      <td>cipher</td>\n",
       "      <td>columnar</td>\n",
       "      <td>\u0012\u0007|mu\\n'\u001d",
       "\u0003f\\ti7\f",
       "j\u0017Q\u0014\u0000</td>\n",
       "    </tr>\n",
       "    <tr>\n",
       "      <th>21864</th>\n",
       "      <td>.SINGMXS 292135\\nAGM\\nAN .F-OONE/GL AOE2\\n-  W...</td>\n",
       "      <td>plain</td>\n",
       "      <td>plain</td>\n",
       "      <td></td>\n",
       "    </tr>\n",
       "    <tr>\n",
       "      <th>409493</th>\n",
       "      <td>1GC\u0003#';S\u001c",
       "A\u001a[\u0001\u00073E\u001e",
       "6q^\u0018f\"? 0hV\\\\n\u0019&gt;U\u0017YKD|\u0002O\u000b",
       "~m+y...</td>\n",
       "      <td>cipher</td>\n",
       "      <td>fakeaes</td>\n",
       "      <td>83</td>\n",
       "    </tr>\n",
       "    <tr>\n",
       "      <th>221024</th>\n",
       "      <td>\u0007=T0Sd6&lt;rV9FseW$zvne\u0017(6.\u001e",
       "\u0015&amp;\f",
       "1\u0019xq[]J\u0001hR%FQYC93|...</td>\n",
       "      <td>cipher</td>\n",
       "      <td>vigenere</td>\n",
       "      <td>Yy]\u0013\u0012rwS'\u0005\u0016@1#\u001b:0\"\\VZ\u0017gqAc4nj3)&lt;\u0011vP2\u001d",
       "u\u0018\u0004\u0019$\u0007\u0001K...</td>\n",
       "    </tr>\n",
       "    <tr>\n",
       "      <th>245736</th>\n",
       "      <td>*NC-Uf&gt;L\u0014T6i\u0015\u0002d:\\rxh)\u001b. ;F\u0013%SA3yu\u0000d%rh.L;ES&gt;!...</td>\n",
       "      <td>cipher</td>\n",
       "      <td>vigenere</td>\n",
       "      <td>Yy]\u0013\u0012rwS'\u0005\u0016@1#\u001b:0\"\\VZ\u0017gqAc4nj3)&lt;\u0011vP2\u001d",
       "u\u0018\u0004\u0019$\u0007\u0001K...</td>\n",
       "    </tr>\n",
       "  </tbody>\n",
       "</table>\n",
       "</div>"
      ],
      "text/plain": [
       "                                                      Txt   Label    Cipher  \\\n",
       "172286  LKF   NIM  HTSD\\n  1 TUR 0  /P /B  0 BI\\nHU4 L...  cipher  columnar   \n",
       "21864   .SINGMXS 292135\\nAGM\\nAN .F-OONE/GL AOE2\\n-  W...   plain     plain   \n",
       "409493  1GC\u0003#';S\n",
       "A\u001a[\u0001\u00073E\n",
       "6q^\u0018f\"? 0hV\\\\n\u0019>U\u0017YKD|\u0002O\n",
       "~m+y...  cipher   fakeaes   \n",
       "221024  \u0007=T0Sd6<rV9FseW$zvne\u0017(6.\n",
       "\u0015&\n",
       "1\u0019xq[]J\u0001hR%FQYC93|...  cipher  vigenere   \n",
       "245736  *NC-Uf>L\u0014T6i\u0015\u0002d:\\rxh)\u001b. ;F\u0013%SA3yu\u0000d%rh.L;ES>!...  cipher  vigenere   \n",
       "\n",
       "                                                      Key  \n",
       "172286                              \u0012\u0007|mu\\n'\n",
       "\u0003f\\ti7\n",
       "j\u0017Q\u0014\u0000  \n",
       "21864                                                      \n",
       "409493                                                 83  \n",
       "221024  Yy]\u0013\u0012rwS'\u0005\u0016@1#\u001b:0\"\\VZ\u0017gqAc4nj3)<\u0011vP2\n",
       "u\u0018\u0004\u0019$\u0007\u0001K...  \n",
       "245736  Yy]\u0013\u0012rwS'\u0005\u0016@1#\u001b:0\"\\VZ\u0017gqAc4nj3)<\u0011vP2\n",
       "u\u0018\u0004\u0019$\u0007\u0001K...  "
      ]
     },
     "execution_count": 45,
     "metadata": {},
     "output_type": "execute_result"
    }
   ],
   "source": [
    "manual_train_fixed_key.sample(5)"
   ]
  },
  {
   "cell_type": "code",
   "execution_count": null,
   "metadata": {},
   "outputs": [],
   "source": [
    "manual_train_fixed_key.to_pickle('../data/train_manual_fixed_key.pkl')"
   ]
  },
  {
   "cell_type": "markdown",
   "metadata": {},
   "source": [
    "## Test data with same fixed key"
   ]
  },
  {
   "cell_type": "code",
   "execution_count": 40,
   "metadata": {},
   "outputs": [
    {
     "name": "stdout",
     "output_type": "stream",
     "text": [
      "caesar\n",
      "columnar\n",
      "fakeaes\n",
      "plain\n",
      "substitution\n",
      "vigenere\n"
     ]
    }
   ],
   "source": [
    "train_key_map = {}\n",
    "for cm, data in manual_train_fixed_key.groupby('Cipher'):\n",
    "    print(cm)\n",
    "    train_key_map[cm] = list(data['Key'].unique())"
   ]
  },
  {
   "cell_type": "code",
   "execution_count": 41,
   "metadata": {},
   "outputs": [
    {
     "name": "stdout",
     "output_type": "stream",
     "text": [
      "--caesar--\n",
      "Successfully encrypted all messages with cipher caesar\n",
      "--columnar--\n",
      "Successfully encrypted all messages with cipher columnar\n",
      "--vigenere--\n",
      "Successfully encrypted all messages with cipher vigenere\n",
      "--substitution--\n",
      "Successfully encrypted all messages with cipher substitution\n",
      "--fakeaes--\n",
      "Successfully encrypted all messages with cipher fakeaes\n"
     ]
    }
   ],
   "source": [
    "ciphers_manual_test = msg_to_cipher(manual_test, cipher_map, alphabet, key_map=train_key_map)"
   ]
  },
  {
   "cell_type": "code",
   "execution_count": 42,
   "metadata": {},
   "outputs": [],
   "source": [
    "plain_manual_test = {'txt': manual_test, 'label': ['plain' for _ in manual_test]}\n",
    "manual_test_fixed_key = generate_dataframe(plain_manual_test, ciphers_manual_test)"
   ]
  },
  {
   "cell_type": "code",
   "execution_count": 44,
   "metadata": {},
   "outputs": [
    {
     "data": {
      "text/html": [
       "<div>\n",
       "<style scoped>\n",
       "    .dataframe tbody tr th:only-of-type {\n",
       "        vertical-align: middle;\n",
       "    }\n",
       "\n",
       "    .dataframe tbody tr th {\n",
       "        vertical-align: top;\n",
       "    }\n",
       "\n",
       "    .dataframe thead th {\n",
       "        text-align: right;\n",
       "    }\n",
       "</style>\n",
       "<table border=\"1\" class=\"dataframe\">\n",
       "  <thead>\n",
       "    <tr style=\"text-align: right;\">\n",
       "      <th></th>\n",
       "      <th>Txt</th>\n",
       "      <th>Label</th>\n",
       "      <th>Cipher</th>\n",
       "      <th>Key</th>\n",
       "    </tr>\n",
       "  </thead>\n",
       "  <tbody>\n",
       "    <tr>\n",
       "      <th>122112</th>\n",
       "      <td>\u0016W\"\u0003\u000b",
       "}\u001bgMjx \u0019-&gt;\u001c",
       "Ot4]9d)e@HC&lt;\u0005Ur\\tm\u0013hNa|_y:l\u001a/...</td>\n",
       "      <td>cipher</td>\n",
       "      <td>fakeaes</td>\n",
       "      <td>83</td>\n",
       "    </tr>\n",
       "    <tr>\n",
       "      <th>33197</th>\n",
       "      <td>HLFIPF88=u.J+8\u0017EFK8D\u0000J+8\u0017EFK8D\u0017I&lt;GFIK\u0000GXik\u0017\u0017\u0017)...</td>\n",
       "      <td>cipher</td>\n",
       "      <td>caesar</td>\n",
       "      <td>118</td>\n",
       "    </tr>\n",
       "    <tr>\n",
       "      <th>24087</th>\n",
       "      <td>HL;G:LCL8%(I&lt;:&lt;@M&lt;;\u0017*.0+(,(\u0000I&lt;:&lt;@M&lt;;\u0017'\u0017$\u0017\u0017\u0017\u0017\u0017\u0017...</td>\n",
       "      <td>cipher</td>\n",
       "      <td>caesar</td>\n",
       "      <td>118</td>\n",
       "    </tr>\n",
       "    <tr>\n",
       "      <th>61594</th>\n",
       "      <td>H\\n4CT8Z4SOE SQE\\nFFJRTET4T-U  0SIUAUME1RE J...</td>\n",
       "      <td>cipher</td>\n",
       "      <td>columnar</td>\n",
       "      <td>\u0012\u0007|mu\\n'\u001d",
       "\u0003f\\ti7\f",
       "j\u0017Q\u0014\u0000</td>\n",
       "    </tr>\n",
       "    <tr>\n",
       "      <th>84440</th>\n",
       "      <td>*NN/k`38\u0019%6i\u000eyRKjeR\u0014\\t\u0013 &gt;6\u00017{3&lt;Rz\u0000`E\"\u0005&amp;\u0015dIldX!...</td>\n",
       "      <td>cipher</td>\n",
       "      <td>vigenere</td>\n",
       "      <td>Yy]\u0013\u0012rwS'\u0005\u0016@1#\u001b:0\"\\VZ\u0017gqAc4nj3)&lt;\u0011vP2\u001d",
       "u\u0018\u0004\u0019$\u0007\u0001K...</td>\n",
       "    </tr>\n",
       "  </tbody>\n",
       "</table>\n",
       "</div>"
      ],
      "text/plain": [
       "                                                      Txt   Label    Cipher  \\\n",
       "122112  \u0016W\"\u0003\n",
       "}\u001bgMjx \u0019->\n",
       "Ot4]9d)e@HC<\u0005Ur\\tm\u0013hNa|_y:l\u001a/...  cipher   fakeaes   \n",
       "33197   HLFIPF88=u.J+8\u0017EFK8D\u0000J+8\u0017EFK8D\u0017I<GFIK\u0000GXik\u0017\u0017\u0017)...  cipher    caesar   \n",
       "24087   HL;G:LCL8%(I<:<@M<;\u0017*.0+(,(\u0000I<:<@M<;\u0017'\u0017$\u0017\u0017\u0017\u0017\u0017\u0017...  cipher    caesar   \n",
       "61594   H\\n4CT8Z4SOE SQE\\nFFJRTET4T-U  0SIUAUME1RE J...  cipher  columnar   \n",
       "84440   *NN/k`38\u0019%6i\u000eyRKjeR\u0014\\t\u0013 >6\u00017{3<Rz\u0000`E\"\u0005&\u0015dIldX!...  cipher  vigenere   \n",
       "\n",
       "                                                      Key  \n",
       "122112                                                 83  \n",
       "33197                                                 118  \n",
       "24087                                                 118  \n",
       "61594                               \u0012\u0007|mu\\n'\n",
       "\u0003f\\ti7\n",
       "j\u0017Q\u0014\u0000  \n",
       "84440   Yy]\u0013\u0012rwS'\u0005\u0016@1#\u001b:0\"\\VZ\u0017gqAc4nj3)<\u0011vP2\n",
       "u\u0018\u0004\u0019$\u0007\u0001K...  "
      ]
     },
     "execution_count": 44,
     "metadata": {},
     "output_type": "execute_result"
    }
   ],
   "source": [
    "manual_test_fixed_key.sample(5)"
   ]
  },
  {
   "cell_type": "code",
   "execution_count": null,
   "metadata": {},
   "outputs": [],
   "source": [
    "manual_test_fixed_key.to_pickle('../data/test_manual_fixed_key.pkl')"
   ]
  },
  {
   "cell_type": "markdown",
   "metadata": {},
   "source": [
    "## Test data with rotating keys"
   ]
  },
  {
   "cell_type": "code",
   "execution_count": 46,
   "metadata": {},
   "outputs": [
    {
     "name": "stdout",
     "output_type": "stream",
     "text": [
      "--caesar--\n",
      "Successfully encrypted all messages with cipher caesar\n",
      "--columnar--\n",
      "Successfully encrypted all messages with cipher columnar\n",
      "--vigenere--\n",
      "Successfully encrypted all messages with cipher vigenere\n",
      "--substitution--\n",
      "Successfully encrypted all messages with cipher substitution\n",
      "--fakeaes--\n",
      "Successfully encrypted all messages with cipher fakeaes\n"
     ]
    }
   ],
   "source": [
    "ciphers_manual_test = msg_to_cipher(manual_test, cipher_map, alphabet, key_rot=1000)"
   ]
  },
  {
   "cell_type": "code",
   "execution_count": 47,
   "metadata": {},
   "outputs": [],
   "source": [
    "manual_test_different_key = generate_dataframe(plain_manual_test, ciphers_manual_test)"
   ]
  },
  {
   "cell_type": "code",
   "execution_count": 48,
   "metadata": {},
   "outputs": [
    {
     "data": {
      "text/html": [
       "<div>\n",
       "<style scoped>\n",
       "    .dataframe tbody tr th:only-of-type {\n",
       "        vertical-align: middle;\n",
       "    }\n",
       "\n",
       "    .dataframe tbody tr th {\n",
       "        vertical-align: top;\n",
       "    }\n",
       "\n",
       "    .dataframe thead th {\n",
       "        text-align: right;\n",
       "    }\n",
       "</style>\n",
       "<table border=\"1\" class=\"dataframe\">\n",
       "  <thead>\n",
       "    <tr style=\"text-align: right;\">\n",
       "      <th></th>\n",
       "      <th>Txt</th>\n",
       "      <th>Label</th>\n",
       "      <th>Cipher</th>\n",
       "      <th>Key</th>\n",
       "    </tr>\n",
       "  </thead>\n",
       "  <tbody>\n",
       "    <tr>\n",
       "      <th>36693</th>\n",
       "      <td>Vi|{ii\u0000iHY]XaYZ2iou2ivHv_ZXiv2UHHv\u0018H\u0019\\n\u001b\u001d",
       "\u0012\f",
       "\u0012\u0019\\...</td>\n",
       "      <td>cipher</td>\n",
       "      <td>caesar</td>\n",
       "      <td>40</td>\n",
       "    </tr>\n",
       "    <tr>\n",
       "      <th>50268</th>\n",
       "      <td>M2EKD 0 L S 09P6/B0\\nI 03/TH209S01\\n5U\\n(0 0 0...</td>\n",
       "      <td>cipher</td>\n",
       "      <td>columnar</td>\n",
       "      <td>I'&amp;W\u0003\u0005Ny${M\u001fpS`|R5/ \u0015rkZ[\u0014%QaD&gt;#.i*\u0010&lt;70=\u0013X?9\\\u000b",
       "...</td>\n",
       "    </tr>\n",
       "    <tr>\n",
       "      <th>85416</th>\n",
       "      <td>^B\u0007\\\u001b]/\\tEl+.k~lU71'\u0017\u00029&amp;FMGFY&lt;~A\u0015mz25a+\u001e",
       "\u0010W?q\\q...</td>\n",
       "      <td>cipher</td>\n",
       "      <td>vigenere</td>\n",
       "      <td>\u000emC\\rX\\tc4\u0004@za\u00198M\u0010ebZw?pSv.(':\u001d",
       "ulT5J~\u0016\u001fgWG\u0017{h0...</td>\n",
       "    </tr>\n",
       "    <tr>\n",
       "      <th>124630</th>\n",
       "      <td>\u0002a\"\u0010.\u001d",
       "^:59\u0007\\n\u000fx\u0019\u001e",
       "-h\u0018N\u0011Wd&lt;!r6EF'1\u0014\u001a X\u0017Al/S\u000b",
       "_0g...</td>\n",
       "      <td>cipher</td>\n",
       "      <td>fakeaes</td>\n",
       "      <td>49</td>\n",
       "    </tr>\n",
       "    <tr>\n",
       "      <th>21094</th>\n",
       "      <td>QUORYOAAF~1TNI01160716\\nWEATHER REPORT\\n METAR...</td>\n",
       "      <td>plain</td>\n",
       "      <td>plain</td>\n",
       "      <td></td>\n",
       "    </tr>\n",
       "  </tbody>\n",
       "</table>\n",
       "</div>"
      ],
      "text/plain": [
       "                                                      Txt   Label    Cipher  \\\n",
       "36693   Vi|{ii\u0000iHY]XaYZ2iou2ivHv_ZXiv2UHHv\u0018H\u0019\\n\u001b\n",
       "\u0012\n",
       "\u0012\u0019\\...  cipher    caesar   \n",
       "50268   M2EKD 0 L S 09P6/B0\\nI 03/TH209S01\\n5U\\n(0 0 0...  cipher  columnar   \n",
       "85416   ^B\u0007\\\u001b]/\\tEl+.k~lU71'\u0017\u00029&FMGFY<~A\u0015mz25a+\n",
       "\u0010W?q\\q...  cipher  vigenere   \n",
       "124630  \u0002a\"\u0010.\n",
       "^:59\u0007\\n\u000fx\u0019\n",
       "-h\u0018N\u0011Wd<!r6EF'1\u0014\u001a X\u0017Al/S\n",
       "_0g...  cipher   fakeaes   \n",
       "21094   QUORYOAAF~1TNI01160716\\nWEATHER REPORT\\n METAR...   plain     plain   \n",
       "\n",
       "                                                      Key  \n",
       "36693                                                  40  \n",
       "50268   I'&W\u0003\u0005Ny${M\u001fpS`|R5/ \u0015rkZ[\u0014%QaD>#.i*\u0010<70=\u0013X?9\\\n",
       "...  \n",
       "85416   \u000emC\\rX\\tc4\u0004@za\u00198M\u0010ebZw?pSv.(':\n",
       "ulT5J~\u0016\u001fgWG\u0017{h0...  \n",
       "124630                                                 49  \n",
       "21094                                                      "
      ]
     },
     "execution_count": 48,
     "metadata": {},
     "output_type": "execute_result"
    }
   ],
   "source": [
    "manual_test_different_key.sample(5)"
   ]
  },
  {
   "cell_type": "code",
   "execution_count": null,
   "metadata": {},
   "outputs": [],
   "source": [
    "manual_test_different_key.to_pickle('../data/test_manual_different_key.pkl')"
   ]
  },
  {
   "cell_type": "markdown",
   "metadata": {},
   "source": [
    "## Training data with rotating keys "
   ]
  },
  {
   "cell_type": "code",
   "execution_count": 49,
   "metadata": {},
   "outputs": [
    {
     "name": "stdout",
     "output_type": "stream",
     "text": [
      "--caesar--\n",
      "Successfully encrypted all messages with cipher caesar\n",
      "--columnar--\n",
      "Successfully encrypted all messages with cipher columnar\n",
      "--vigenere--\n",
      "Successfully encrypted all messages with cipher vigenere\n",
      "--substitution--\n",
      "Successfully encrypted all messages with cipher substitution\n",
      "--fakeaes--\n",
      "Successfully encrypted all messages with cipher fakeaes\n"
     ]
    }
   ],
   "source": [
    "ciphers_manual_train = msg_to_cipher(manual_train, cipher_map, alphabet, key_rot=1000)"
   ]
  },
  {
   "cell_type": "code",
   "execution_count": 50,
   "metadata": {},
   "outputs": [],
   "source": [
    "manual_train_key_rot = generate_dataframe(plain_manual_train, ciphers_manual_train)"
   ]
  },
  {
   "cell_type": "code",
   "execution_count": 51,
   "metadata": {},
   "outputs": [
    {
     "data": {
      "text/html": [
       "<div>\n",
       "<style scoped>\n",
       "    .dataframe tbody tr th:only-of-type {\n",
       "        vertical-align: middle;\n",
       "    }\n",
       "\n",
       "    .dataframe tbody tr th {\n",
       "        vertical-align: top;\n",
       "    }\n",
       "\n",
       "    .dataframe thead th {\n",
       "        text-align: right;\n",
       "    }\n",
       "</style>\n",
       "<table border=\"1\" class=\"dataframe\">\n",
       "  <thead>\n",
       "    <tr style=\"text-align: right;\">\n",
       "      <th></th>\n",
       "      <th>Txt</th>\n",
       "      <th>Label</th>\n",
       "      <th>Cipher</th>\n",
       "      <th>Key</th>\n",
       "    </tr>\n",
       "  </thead>\n",
       "  <tbody>\n",
       "    <tr>\n",
       "      <th>205635</th>\n",
       "      <td>DI7SESDHE1\\n87 A\\n4IQV O K-/...</td>\n",
       "      <td>cipher</td>\n",
       "      <td>columnar</td>\n",
       "      <td>8\f",
       "\u0005\u001e",
       "o\u000b",
       "V`%\\rjA0\u001b_\u0010Jhl\u001a\u0016k|b\"Lc^\\gr[\u00016Sf*\u0007\u0012(wFB\u0014p...</td>\n",
       "    </tr>\n",
       "    <tr>\n",
       "      <th>85919</th>\n",
       "      <td>\u0005\\n\u0003\u0007\u000e\u0003uuz3e\\t\u0002}deekehij&gt;\f",
       "yu\\t|y\u0007T\u0007y\u0004\u0003\u0007\\t&gt;T\u0001y\\...</td>\n",
       "      <td>cipher</td>\n",
       "      <td>caesar</td>\n",
       "      <td>52</td>\n",
       "    </tr>\n",
       "    <tr>\n",
       "      <th>67242</th>\n",
       "      <td>470\\n--SCHEDULED ARRIVAL--\\n    2130/2140...</td>\n",
       "      <td>plain</td>\n",
       "      <td>plain</td>\n",
       "      <td></td>\n",
       "    </tr>\n",
       "    <tr>\n",
       "      <th>3785</th>\n",
       "      <td>QUMLBSDCR~1LFOK WEATHER\\n07-DEC-2016 10:59UTC\\...</td>\n",
       "      <td>plain</td>\n",
       "      <td>plain</td>\n",
       "      <td></td>\n",
       "    </tr>\n",
       "    <tr>\n",
       "      <th>237250</th>\n",
       "      <td>o\u0007o~\u001f|R\u001b@\u0002\u0005(q &lt;\u0019?.\u001fK-|X\u0018CTU\u0010Zn4h:3/\\rkTVW3&gt;\u00113F...</td>\n",
       "      <td>cipher</td>\n",
       "      <td>vigenere</td>\n",
       "      <td>2-;X.{Zz\u0004UT$W\\rh\u000fuo\u001axLORq\u0010\u0011p\u0007*\\\u00151r[9\u001e",
       "5\u0016\u0012\u0014\\t]\u0001=</td>\n",
       "    </tr>\n",
       "  </tbody>\n",
       "</table>\n",
       "</div>"
      ],
      "text/plain": [
       "                                                      Txt   Label    Cipher  \\\n",
       "205635   DI7SESDHE1\\n87 A\\n4IQV O K-/...  cipher  columnar   \n",
       "85919   \u0005\\n\u0003\u0007\u000e\u0003uuz3e\\t\u0002}deekehij>\n",
       "yu\\t|y\u0007T\u0007y\u0004\u0003\u0007\\t>T\u0001y\\...  cipher    caesar   \n",
       "67242        470\\n--SCHEDULED ARRIVAL--\\n    2130/2140...   plain     plain   \n",
       "3785    QUMLBSDCR~1LFOK WEATHER\\n07-DEC-2016 10:59UTC\\...   plain     plain   \n",
       "237250  o\u0007o~\u001f|R\u001b@\u0002\u0005(q <\u0019?.\u001fK-|X\u0018CTU\u0010Zn4h:3/\\rkTVW3>\u00113F...  cipher  vigenere   \n",
       "\n",
       "                                                      Key  \n",
       "205635  8\n",
       "\u0005\n",
       "o\n",
       "V`%\\rjA0\u001b_\u0010Jhl\u001a\u0016k|b\"Lc^\\gr[\u00016Sf*\u0007\u0012(wFB\u0014p...  \n",
       "85919                                                  52  \n",
       "67242                                                      \n",
       "3785                                                       \n",
       "237250    \u001f2-;X.{Zz\u0004UT$W\\rh\u000fuo\u001axLORq\u0010\u0011p\u0007*\\\u00151r[9\n",
       "5\u0016\u0012\u0014\\t]\u0001=  "
      ]
     },
     "execution_count": 51,
     "metadata": {},
     "output_type": "execute_result"
    }
   ],
   "source": [
    "manual_train_key_rot.sample(5)"
   ]
  },
  {
   "cell_type": "code",
   "execution_count": null,
   "metadata": {},
   "outputs": [],
   "source": [
    "manual_train_key_rot.to_pickle('../data/train_manual_key_rot.pkl')"
   ]
  },
  {
   "cell_type": "markdown",
   "metadata": {},
   "source": [
    "# Mix: Manual and sensor data\n",
    "## Training data"
   ]
  },
  {
   "cell_type": "code",
   "execution_count": 52,
   "metadata": {},
   "outputs": [],
   "source": [
    "plain_train = {'txt': sensor_train + manual_train, \n",
    "               'label': ['sensor' for _ in sensor_train] + ['manual' for _ in manual_train]}"
   ]
  },
  {
   "cell_type": "code",
   "execution_count": 53,
   "metadata": {},
   "outputs": [],
   "source": [
    "plain_train_key_rot = generate_dataframe(plain_train, ciphers_sensor_train)"
   ]
  },
  {
   "cell_type": "code",
   "execution_count": 54,
   "metadata": {},
   "outputs": [
    {
     "data": {
      "text/html": [
       "<div>\n",
       "<style scoped>\n",
       "    .dataframe tbody tr th:only-of-type {\n",
       "        vertical-align: middle;\n",
       "    }\n",
       "\n",
       "    .dataframe tbody tr th {\n",
       "        vertical-align: top;\n",
       "    }\n",
       "\n",
       "    .dataframe thead th {\n",
       "        text-align: right;\n",
       "    }\n",
       "</style>\n",
       "<table border=\"1\" class=\"dataframe\">\n",
       "  <thead>\n",
       "    <tr style=\"text-align: right;\">\n",
       "      <th></th>\n",
       "      <th>Txt</th>\n",
       "      <th>Label</th>\n",
       "      <th>Cipher</th>\n",
       "      <th>Key</th>\n",
       "    </tr>\n",
       "  </thead>\n",
       "  <tbody>\n",
       "    <tr>\n",
       "      <th>323712</th>\n",
       "      <td>!\u0014\u0017A8#5*\u0014D=?7DM5\"58G\"D&lt;!6:6$,$($5%,%&amp;6%%'&amp;)76&amp;...</td>\n",
       "      <td>cipher</td>\n",
       "      <td>caesar</td>\n",
       "      <td>115</td>\n",
       "    </tr>\n",
       "    <tr>\n",
       "      <th>135963</th>\n",
       "      <td>.SINGMXS 112323\\nAGM\\nAN .VT-JEX/GL KSC1\\n-  W...</td>\n",
       "      <td>manual</td>\n",
       "      <td>plain</td>\n",
       "      <td></td>\n",
       "    </tr>\n",
       "    <tr>\n",
       "      <th>769313</th>\n",
       "      <td>Y^iOLWXmH;\u001e",
       "}y\u001b&amp;+9\u0018Ak]\u0015`\\rx\u000b",
       "2\u0014_B!\u0013\brG\u0000U3a'\u0007</td>\n",
       "      <td>cipher</td>\n",
       "      <td>fakeaes</td>\n",
       "      <td>13</td>\n",
       "    </tr>\n",
       "    <tr>\n",
       "      <th>821875</th>\n",
       "      <td>V\u00143=u\u0012Nj\\tUh;w\u000f@7abk\u001aL\u0018[ P\u001fxn$\u001d",
       "/E\u0004\\nyAHR\\|Oq6p...</td>\n",
       "      <td>cipher</td>\n",
       "      <td>fakeaes</td>\n",
       "      <td>27</td>\n",
       "    </tr>\n",
       "    <tr>\n",
       "      <th>768391</th>\n",
       "      <td>,\u0013@STLc U~}y5F&gt;%tD\u0001Qsvl\u000f9\\n\f",
       "b&lt;7E\u000238R]X#z\u0014N</td>\n",
       "      <td>cipher</td>\n",
       "      <td>fakeaes</td>\n",
       "      <td>119</td>\n",
       "    </tr>\n",
       "  </tbody>\n",
       "</table>\n",
       "</div>"
      ],
      "text/plain": [
       "                                                      Txt   Label   Cipher  \\\n",
       "323712  !\u0014\u0017A8#5*\u0014D=?7DM5\"58G\"D<!6:6$,$($5%,%&6%%'&)76&...  cipher   caesar   \n",
       "135963  .SINGMXS 112323\\nAGM\\nAN .VT-JEX/GL KSC1\\n-  W...  manual    plain   \n",
       "769313         Y^iOLWXmH;\n",
       "}y\u001b&+9\u0018Ak]\u0015`\\rx\n",
       "2\u0014_B!\u0013\brG\u0000U3a'\u0007  cipher  fakeaes   \n",
       "821875  V\u00143=u\u0012Nj\\tUh;w\u000f@7abk\u001aL\u0018[ P\u001fxn$\n",
       "/E\u0004\\nyAHR\\|Oq6p...  cipher  fakeaes   \n",
       "768391         ,\u0013@STLc U~}y5F>%tD\u0001Qsvl\u000f9\\n\n",
       "b<7E\u000238R]X#z\u0014N  cipher  fakeaes   \n",
       "\n",
       "        Key  \n",
       "323712  115  \n",
       "135963       \n",
       "769313   13  \n",
       "821875   27  \n",
       "768391  119  "
      ]
     },
     "execution_count": 54,
     "metadata": {},
     "output_type": "execute_result"
    }
   ],
   "source": [
    "plain_train_key_rot.sample(5)"
   ]
  },
  {
   "cell_type": "code",
   "execution_count": 55,
   "metadata": {},
   "outputs": [
    {
     "data": {
      "text/plain": [
       "Label\n",
       "cipher    670000\n",
       "manual     69849\n",
       "sensor    134185\n",
       "dtype: int64"
      ]
     },
     "execution_count": 55,
     "metadata": {},
     "output_type": "execute_result"
    }
   ],
   "source": [
    "plain_train_key_rot.groupby('Label').size()"
   ]
  },
  {
   "cell_type": "code",
   "execution_count": null,
   "metadata": {},
   "outputs": [],
   "source": [
    "plain_train_key_rot.to_pickle('../data/train_mixed.pkl')"
   ]
  },
  {
   "cell_type": "markdown",
   "metadata": {},
   "source": [
    "## Test data"
   ]
  },
  {
   "cell_type": "code",
   "execution_count": 56,
   "metadata": {},
   "outputs": [],
   "source": [
    "plain_test = {'txt': sensor_test + manual_test, \n",
    "               'label': ['sensor' for _ in sensor_test] + ['manual' for _ in manual_test]}"
   ]
  },
  {
   "cell_type": "code",
   "execution_count": 57,
   "metadata": {},
   "outputs": [],
   "source": [
    "plain_test_key_rot = generate_dataframe(plain_test, ciphers_sensor_test)"
   ]
  },
  {
   "cell_type": "code",
   "execution_count": 58,
   "metadata": {},
   "outputs": [
    {
     "data": {
      "text/html": [
       "<div>\n",
       "<style scoped>\n",
       "    .dataframe tbody tr th:only-of-type {\n",
       "        vertical-align: middle;\n",
       "    }\n",
       "\n",
       "    .dataframe tbody tr th {\n",
       "        vertical-align: top;\n",
       "    }\n",
       "\n",
       "    .dataframe thead th {\n",
       "        text-align: right;\n",
       "    }\n",
       "</style>\n",
       "<table border=\"1\" class=\"dataframe\">\n",
       "  <thead>\n",
       "    <tr style=\"text-align: right;\">\n",
       "      <th></th>\n",
       "      <th>Txt</th>\n",
       "      <th>Label</th>\n",
       "      <th>Cipher</th>\n",
       "      <th>Key</th>\n",
       "    </tr>\n",
       "  </thead>\n",
       "  <tbody>\n",
       "    <tr>\n",
       "      <th>93295</th>\n",
       "      <td>gZ]\b~i{{Z\\t\u0014}\\n~\u0014{h}\\rkh\u000b",
       "\u0002g}\u0005{lj{}}k{ro~{{\u0000pn...</td>\n",
       "      <td>cipher</td>\n",
       "      <td>caesar</td>\n",
       "      <td>58</td>\n",
       "    </tr>\n",
       "    <tr>\n",
       "      <th>249600</th>\n",
       "      <td>[0Wq8k\u0003$H=]\u0011g_\\\u001d",
       "v-iY(Z*2Ks\u001c",
       "L\u0018t)NzAp\\r19\\n\u000b",
       "'</td>\n",
       "      <td>cipher</td>\n",
       "      <td>fakeaes</td>\n",
       "      <td>118</td>\n",
       "    </tr>\n",
       "    <tr>\n",
       "      <th>287478</th>\n",
       "      <td>VZo[\\r,4]A\u001e",
       "\u0017%Y7fW;?!Fq&gt;QS\f",
       "Bdg@^L'\b\u0003\u0000=$9Dx\u001c",
       "\\ lP...</td>\n",
       "      <td>cipher</td>\n",
       "      <td>fakeaes</td>\n",
       "      <td>91</td>\n",
       "    </tr>\n",
       "    <tr>\n",
       "      <th>64394</th>\n",
       "      <td>01ISTBITK~1DIS01141319\\nAVERAGE ETA\\nA.D.ETA L...</td>\n",
       "      <td>manual</td>\n",
       "      <td>plain</td>\n",
       "      <td></td>\n",
       "    </tr>\n",
       "    <tr>\n",
       "      <th>104294</th>\n",
       "      <td>\u001b\u000e\u0011;\u001f97\u001a!\u001f\u001f\u001e",
       "%\u001f\u001a!\u001f\u001e",
       ";#\u001f\u001c",
       "&lt;\"#\u001e",
       "\u001e",
       "\u001e",
       "E\u001e",
       "\u001f%!$\u001e",
       "\u001a! $\u001e",
       " #\u001a!\u001f\u001e",
       "...</td>\n",
       "      <td>cipher</td>\n",
       "      <td>caesar</td>\n",
       "      <td>109</td>\n",
       "    </tr>\n",
       "  </tbody>\n",
       "</table>\n",
       "</div>"
      ],
      "text/plain": [
       "                                                      Txt   Label   Cipher  \\\n",
       "93295   gZ]\b~i{{Z\\t\u0014}\\n~\u0014{h}\\rkh\n",
       "\u0002g}\u0005{lj{}}k{ro~{{\u0000pn...  cipher   caesar   \n",
       "249600        [0Wq8k\u0003$H=]\u0011g_\\\n",
       "v-iY(Z*2Ks\n",
       "L\u0018t)NzAp\\r19\\n\n",
       "'  cipher  fakeaes   \n",
       "287478  VZo[\\r,4]A\n",
       "\u0017%Y7fW;?!Fq>QS\n",
       "Bdg@^L'\b\u0003\u0000=$9Dx\n",
       "\\ lP...  cipher  fakeaes   \n",
       "64394   01ISTBITK~1DIS01141319\\nAVERAGE ETA\\nA.D.ETA L...  manual    plain   \n",
       "104294  \u001b\u000e\u0011;\u001f97\u001a!\u001f\u001f\n",
       "%\u001f\u001a!\u001f\n",
       ";#\u001f\n",
       "<\"#\n",
       "\n",
       "\n",
       "E\n",
       "\u001f%!$\n",
       "\u001a! $\n",
       " #\u001a!\u001f\n",
       "...  cipher   caesar   \n",
       "\n",
       "        Key  \n",
       "93295    58  \n",
       "249600  118  \n",
       "287478   91  \n",
       "64394        \n",
       "104294  109  "
      ]
     },
     "execution_count": 58,
     "metadata": {},
     "output_type": "execute_result"
    }
   ],
   "source": [
    "plain_test_key_rot.sample(5)"
   ]
  },
  {
   "cell_type": "code",
   "execution_count": null,
   "metadata": {},
   "outputs": [],
   "source": [
    "plain_test_key_rot.to_pickle('../data/test_mixed.pkl')"
   ]
  },
  {
   "cell_type": "markdown",
   "metadata": {},
   "source": [
    "## Dummy data\n",
    "\n",
    "Create dummy data without original sensitive message content to provide for example run"
   ]
  },
  {
   "cell_type": "code",
   "execution_count": 83,
   "metadata": {},
   "outputs": [],
   "source": [
    "# Get a data sample\n",
    "dummy = manual_train_key_rot.sample(1000).copy().reset_index()"
   ]
  },
  {
   "cell_type": "code",
   "execution_count": 84,
   "metadata": {
    "scrolled": false
   },
   "outputs": [],
   "source": [
    "# Get plaintext messages\n",
    "plain_messages = list(dummy.groupby('Label').get_group('plain')['Txt'])\n",
    "\n",
    "# Extract \"words\"\n",
    "delimiter = ' '\n",
    "words = []\n",
    "for m in plain_messages:\n",
    "    words.extend(m.split(delimiter))"
   ]
  },
  {
   "cell_type": "code",
   "execution_count": 85,
   "metadata": {},
   "outputs": [],
   "source": [
    "from numpy.random import choice\n",
    "\n",
    "# Create a function that generates some random message data that looks similar to plain txt messages\n",
    "def sample_new_msg(m, words):\n",
    "    return ' '.join(choice(words, size=len(m)))"
   ]
  },
  {
   "cell_type": "code",
   "execution_count": 88,
   "metadata": {},
   "outputs": [],
   "source": [
    "pidx = dummy[dummy['Label'] == 'plain'].index\n",
    "dummy.loc[pidx, 'Txt'] = dummy.loc[pidx, 'Txt'].apply(lambda m: sample_new_msg(m, words))"
   ]
  },
  {
   "cell_type": "code",
   "execution_count": 90,
   "metadata": {},
   "outputs": [
    {
     "data": {
      "text/html": [
       "<div>\n",
       "<style scoped>\n",
       "    .dataframe tbody tr th:only-of-type {\n",
       "        vertical-align: middle;\n",
       "    }\n",
       "\n",
       "    .dataframe tbody tr th {\n",
       "        vertical-align: top;\n",
       "    }\n",
       "\n",
       "    .dataframe thead th {\n",
       "        text-align: right;\n",
       "    }\n",
       "</style>\n",
       "<table border=\"1\" class=\"dataframe\">\n",
       "  <thead>\n",
       "    <tr style=\"text-align: right;\">\n",
       "      <th></th>\n",
       "      <th>index</th>\n",
       "      <th>Txt</th>\n",
       "      <th>Label</th>\n",
       "      <th>Cipher</th>\n",
       "      <th>Key</th>\n",
       "    </tr>\n",
       "  </thead>\n",
       "  <tbody>\n",
       "    <tr>\n",
       "      <th>790</th>\n",
       "      <td>324488</td>\n",
       "      <td>-RmR:\u0015\u0015\\t\\t`j``o~3^'y\u0016:m/``o~/:.'B\u0015\u00163y\u0015\u00163/W\u0015\u00163...</td>\n",
       "      <td>cipher</td>\n",
       "      <td>substitution</td>\n",
       "      <td>$HQu1\u0002?\u001b\u0011y\"M4\u0000,\u0012XL[zS\\\u0001b&amp;Odh(*v/\u0010\f",
       "\u000f9\u0018P\u001f\u0005@g+aB\u001e",
       "...</td>\n",
       "    </tr>\n",
       "    <tr>\n",
       "      <th>12</th>\n",
       "      <td>234113</td>\n",
       "      <td>[I\u0016SUAf!\u0013\u0010\u0018J&amp;\u0003Rl\u001e",
       "nU+k\u0005Y!#\u001b\u001c",
       "S\u000e-P\u0014!UP\u0019V)\u001be(mpxJ...</td>\n",
       "      <td>cipher</td>\n",
       "      <td>vigenere</td>\n",
       "      <td>tT\u0013\u000ey\u0014ZM\u0012g+\u001d",
       "4\u0007(]\u001c",
       "\u0011\f",
       "\u001e",
       "12\u0015\u0001OS[nf</td>\n",
       "    </tr>\n",
       "    <tr>\n",
       "      <th>105</th>\n",
       "      <td>357832</td>\n",
       "      <td>\u0003\b\u001b*q\u0014|Mig\u0019=\u0004e T\u0010J86PSba~jkHuB\u0017)&gt;\u0016C;ZD'Vrfv#...</td>\n",
       "      <td>cipher</td>\n",
       "      <td>fakeaes</td>\n",
       "      <td>95</td>\n",
       "    </tr>\n",
       "    <tr>\n",
       "      <th>47</th>\n",
       "      <td>8758</td>\n",
       "      <td>WX CONTESTE 1 9999 23/16:00\\nMETAR  25603 ANTE...</td>\n",
       "      <td>plain</td>\n",
       "      <td>plain</td>\n",
       "      <td></td>\n",
       "    </tr>\n",
       "    <tr>\n",
       "      <th>677</th>\n",
       "      <td>94764</td>\n",
       "      <td>^\u0000q\u0002qs\u0003uPa`aheg:qw}:q~Pv]x\\t|v_}qPcccy:]PP\u0004vvv...</td>\n",
       "      <td>cipher</td>\n",
       "      <td>caesar</td>\n",
       "      <td>48</td>\n",
       "    </tr>\n",
       "  </tbody>\n",
       "</table>\n",
       "</div>"
      ],
      "text/plain": [
       "      index                                                Txt   Label  \\\n",
       "790  324488  -RmR:\u0015\u0015\\t\\t`j``o~3^'y\u0016:m/``o~/:.'B\u0015\u00163y\u0015\u00163/W\u0015\u00163...  cipher   \n",
       "12   234113  [I\u0016SUAf!\u0013\u0010\u0018J&\u0003Rl\n",
       "nU+k\u0005Y!#\u001b\n",
       "S\u000e-P\u0014!UP\u0019V)\u001be(mpxJ...  cipher   \n",
       "105  357832  \n",
       "\u0003\b\u001b*q\u0014|Mig\u0019=\u0004e T\u0010J86PSba~jkHuB\u0017)>\u0016C;ZD'Vrfv#...  cipher   \n",
       "47     8758  WX CONTESTE 1 9999 23/16:00\\nMETAR  25603 ANTE...   plain   \n",
       "677   94764  ^\u0000q\u0002qs\u0003uPa`aheg:qw}:q~Pv]x\\t|v_}qPcccy:]PP\u0004vvv...  cipher   \n",
       "\n",
       "           Cipher                                                Key  \n",
       "790  substitution  $HQu1\u0002?\u001b\u0011y\"M4\u0000,\u0012XL[zS\\\u0001b&Odh(*v/\u0010\n",
       "\u000f9\u0018P\u001f\u0005@g+aB\n",
       "...  \n",
       "12       vigenere                    \n",
       "tT\u0013\u000ey\u0014ZM\u0012g+\n",
       "4\u0007(]\n",
       "\u0011\n",
       "\n",
       "12\u0015\u0001OS[nf  \n",
       "105       fakeaes                                                 95  \n",
       "47          plain                                                     \n",
       "677        caesar                                                 48  "
      ]
     },
     "execution_count": 90,
     "metadata": {},
     "output_type": "execute_result"
    }
   ],
   "source": [
    "dummy.sample(5)"
   ]
  },
  {
   "cell_type": "code",
   "execution_count": 92,
   "metadata": {},
   "outputs": [],
   "source": [
    "dummy.to_pickle('../data/dummy.pkl')"
   ]
  }
 ],
 "metadata": {
  "kernelspec": {
   "display_name": "Python 3",
   "language": "python",
   "name": "python3"
  },
  "language_info": {
   "codemirror_mode": {
    "name": "ipython",
    "version": 3
   },
   "file_extension": ".py",
   "mimetype": "text/x-python",
   "name": "python",
   "nbconvert_exporter": "python",
   "pygments_lexer": "ipython3",
   "version": "3.7.6"
  }
 },
 "nbformat": 4,
 "nbformat_minor": 4
}
